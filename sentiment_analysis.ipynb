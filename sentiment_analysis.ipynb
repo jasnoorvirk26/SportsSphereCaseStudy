{
 "cells": [
  {
   "cell_type": "code",
   "execution_count": 1,
   "id": "c0651606",
   "metadata": {},
   "outputs": [],
   "source": [
    "## Import Required Libraries"
   ]
  },
  {
   "cell_type": "code",
   "execution_count": 2,
   "id": "1e5773cb",
   "metadata": {},
   "outputs": [],
   "source": [
    "import os  # Importing the os module to interact with the operating system for environment variable management.\n",
    "import pandas as pd  # Importing pandas for data manipulation and analysis, particularly for handling data frames.\n",
    "import pyodbc  # Importing pyodbc to facilitate connections to SQL databases using ODBC.\n",
    "import nltk  # Importing the Natural Language Toolkit (NLTK) for natural language processing tasks.\n",
    "from nltk.sentiment.vader import SentimentIntensityAnalyzer  # Importing the VADER sentiment analysis tool for sentiment scoring.\n",
    "\n",
    "import warnings  # Importing the warnings module to manage warning messages in the output.\n",
    "warnings.filterwarnings('ignore')  # Suppressing warnings to maintain a cleaner output during execution."
   ]
  },
  {
   "cell_type": "code",
   "execution_count": 16,
   "id": "83e21609",
   "metadata": {},
   "outputs": [
    {
     "name": "stderr",
     "output_type": "stream",
     "text": [
      "[nltk_data] Downloading package vader_lexicon to\n",
      "[nltk_data]     C:\\Users\\HP\\AppData\\Roaming\\nltk_data...\n"
     ]
    },
    {
     "data": {
      "text/plain": [
       "True"
      ]
     },
     "execution_count": 16,
     "metadata": {},
     "output_type": "execute_result"
    }
   ],
   "source": [
    "nltk.download('vader_lexicon') # Download the VADER lexicon for sentiment analysis."
   ]
  },
  {
   "cell_type": "code",
   "execution_count": 3,
   "id": "c658fabf",
   "metadata": {},
   "outputs": [],
   "source": [
    "server = os.getenv('server')  # Retrieve the SQL Server instance name from the environment variable.\n",
    "database = os.getenv('database')  # Retrieve the database name from the environment variable."
   ]
  },
  {
   "cell_type": "code",
   "execution_count": 16,
   "id": "70fa9563",
   "metadata": {},
   "outputs": [],
   "source": [
    "# Function to retrieve customer reviews from SQL Server\n",
    "def get_customer_reviews():\n",
    "    # Connection string for SQL Server\n",
    "    conn_str = (\n",
    "        \"Driver={ODBC Driver 17 for SQL Server};\"  # Specify the ODBC driver\n",
    "        f\"Server={server};\"                         # Server instance name\n",
    "        f\"Database={database};\"                     # Database name\n",
    "        \"Trusted_Connection=yes;\"                   # Use trusted connection\n",
    "    )\n",
    "    \n",
    "    conn = pyodbc.connect(conn_str)  # Establish the connection to the database\n",
    "    \n",
    "    # SQL query to retrieve cleaned customer reviews\n",
    "    sql_query = \"SELECT review_id, customer_id, product_id, review_date, rating, review_text FROM cleaned_customer_reviews\"\n",
    "    \n",
    "    df = pd.read_sql(sql_query, conn)  # Execute the query and store the results in a DataFrame\n",
    "    \n",
    "    conn.close()  # Close the database connection\n",
    "    \n",
    "    return df  # Return the DataFrame containing the fetched data"
   ]
  },
  {
   "cell_type": "code",
   "execution_count": 17,
   "id": "5fb810cc",
   "metadata": {},
   "outputs": [],
   "source": [
    "# Fetch customer reviews into a DataFrame\n",
    "customer_reviews_df = get_customer_reviews()  # Call the function to retrieve customer reviews"
   ]
  },
  {
   "cell_type": "code",
   "execution_count": 18,
   "id": "088af58b",
   "metadata": {},
   "outputs": [],
   "source": [
    "# Initialize the Sentiment Intensity Analyzer\n",
    "analyzer = SentimentIntensityAnalyzer()  # Create an instance of the VADER sentiment analyzer"
   ]
  },
  {
   "cell_type": "code",
   "execution_count": 19,
   "id": "c9ee2ac8",
   "metadata": {},
   "outputs": [],
   "source": [
    "# Calculate the sentiment score of a review\n",
    "def get_sentiment_score(review):\n",
    "    sentiment = analyzer.polarity_scores(review)  # Get sentiment scores for the review\n",
    "    return sentiment['compound']  # Return the compound sentiment score"
   ]
  },
  {
   "cell_type": "code",
   "execution_count": 20,
   "id": "ff16e6b2",
   "metadata": {},
   "outputs": [],
   "source": [
    "# Categorize sentiment based on score and rating\n",
    "def determine_sentiment_category(score, rating):\n",
    "    if score > 0.05:\n",
    "        if rating > 3:\n",
    "            return 'Positive'\n",
    "        elif rating == 3:\n",
    "            return 'Mixed Positive'\n",
    "        else:\n",
    "            return 'Mixed Negative'\n",
    "    elif score < -0.05:\n",
    "        if rating < 3:\n",
    "            return 'Negative'\n",
    "        elif rating == 3:\n",
    "            return 'Mixed Negative'\n",
    "        else:\n",
    "            return 'Mixed Positive'\n",
    "    else:\n",
    "        if rating > 3:\n",
    "            return 'Positive'\n",
    "        elif rating < 3:\n",
    "            return 'Negative'\n",
    "        else:\n",
    "            return 'Neutral'"
   ]
  },
  {
   "cell_type": "code",
   "execution_count": 21,
   "id": "9302a3b7",
   "metadata": {},
   "outputs": [],
   "source": [
    "# Assign sentiment score to a defined bucket\n",
    "def classify_sentiment_bucket(score):\n",
    "    if score >= 0.5:\n",
    "        return '0.5 to 1.0'\n",
    "    elif score >= 0.0 and score < 0.5:\n",
    "        return '0.0 to 0.49'\n",
    "    elif score <= -0.5:\n",
    "        return '-1.0 to -0.5'\n",
    "    else:\n",
    "        return '-0.49 to 0.0'"
   ]
  },
  {
   "cell_type": "code",
   "execution_count": 22,
   "id": "ec1b07ac",
   "metadata": {},
   "outputs": [],
   "source": [
    "customer_reviews_df['sentiment_score']=customer_reviews_df['review_text'].apply(get_sentiment_score)"
   ]
  },
  {
   "cell_type": "code",
   "execution_count": 23,
   "id": "0add56b6",
   "metadata": {},
   "outputs": [],
   "source": [
    "customer_reviews_df['sentiment_bucket'] = customer_reviews_df['sentiment_score'].apply(classify_sentiment_bucket)"
   ]
  },
  {
   "cell_type": "code",
   "execution_count": 24,
   "id": "522f9f65",
   "metadata": {},
   "outputs": [],
   "source": [
    "customer_reviews_df['sentiment_category']=customer_reviews_df.apply(lambda row: determine_sentiment_category(row['sentiment_score'],row['rating']),axis=1)"
   ]
  },
  {
   "cell_type": "code",
   "execution_count": 25,
   "id": "25f9fd1f",
   "metadata": {},
   "outputs": [
    {
     "data": {
      "text/html": [
       "<div>\n",
       "<style scoped>\n",
       "    .dataframe tbody tr th:only-of-type {\n",
       "        vertical-align: middle;\n",
       "    }\n",
       "\n",
       "    .dataframe tbody tr th {\n",
       "        vertical-align: top;\n",
       "    }\n",
       "\n",
       "    .dataframe thead th {\n",
       "        text-align: right;\n",
       "    }\n",
       "</style>\n",
       "<table border=\"1\" class=\"dataframe\">\n",
       "  <thead>\n",
       "    <tr style=\"text-align: right;\">\n",
       "      <th></th>\n",
       "      <th>review_id</th>\n",
       "      <th>customer_id</th>\n",
       "      <th>product_id</th>\n",
       "      <th>review_date</th>\n",
       "      <th>rating</th>\n",
       "      <th>review_text</th>\n",
       "      <th>sentiment_score</th>\n",
       "      <th>sentiment_bucket</th>\n",
       "      <th>sentiment_category</th>\n",
       "    </tr>\n",
       "  </thead>\n",
       "  <tbody>\n",
       "    <tr>\n",
       "      <th>0</th>\n",
       "      <td>1</td>\n",
       "      <td>77</td>\n",
       "      <td>18</td>\n",
       "      <td>2021-12-23</td>\n",
       "      <td>3</td>\n",
       "      <td>average experience, nothing special.</td>\n",
       "      <td>-0.3089</td>\n",
       "      <td>-0.49 to 0.0</td>\n",
       "      <td>Mixed Negative</td>\n",
       "    </tr>\n",
       "    <tr>\n",
       "      <th>1</th>\n",
       "      <td>2</td>\n",
       "      <td>80</td>\n",
       "      <td>19</td>\n",
       "      <td>2022-12-25</td>\n",
       "      <td>5</td>\n",
       "      <td>the quality is top-notch.</td>\n",
       "      <td>0.0000</td>\n",
       "      <td>0.0 to 0.49</td>\n",
       "      <td>Positive</td>\n",
       "    </tr>\n",
       "    <tr>\n",
       "      <th>2</th>\n",
       "      <td>3</td>\n",
       "      <td>50</td>\n",
       "      <td>13</td>\n",
       "      <td>2023-01-26</td>\n",
       "      <td>4</td>\n",
       "      <td>five stars for the quick delivery.</td>\n",
       "      <td>0.0000</td>\n",
       "      <td>0.0 to 0.49</td>\n",
       "      <td>Positive</td>\n",
       "    </tr>\n",
       "    <tr>\n",
       "      <th>3</th>\n",
       "      <td>4</td>\n",
       "      <td>78</td>\n",
       "      <td>15</td>\n",
       "      <td>2023-04-21</td>\n",
       "      <td>3</td>\n",
       "      <td>good quality, but could be cheaper.</td>\n",
       "      <td>0.2382</td>\n",
       "      <td>0.0 to 0.49</td>\n",
       "      <td>Mixed Positive</td>\n",
       "    </tr>\n",
       "    <tr>\n",
       "      <th>4</th>\n",
       "      <td>5</td>\n",
       "      <td>64</td>\n",
       "      <td>2</td>\n",
       "      <td>2021-07-16</td>\n",
       "      <td>3</td>\n",
       "      <td>average experience, nothing special.</td>\n",
       "      <td>-0.3089</td>\n",
       "      <td>-0.49 to 0.0</td>\n",
       "      <td>Mixed Negative</td>\n",
       "    </tr>\n",
       "  </tbody>\n",
       "</table>\n",
       "</div>"
      ],
      "text/plain": [
       "   review_id  customer_id  product_id review_date  rating  \\\n",
       "0          1           77          18  2021-12-23       3   \n",
       "1          2           80          19  2022-12-25       5   \n",
       "2          3           50          13  2023-01-26       4   \n",
       "3          4           78          15  2023-04-21       3   \n",
       "4          5           64           2  2021-07-16       3   \n",
       "\n",
       "                            review_text  sentiment_score sentiment_bucket  \\\n",
       "0  average experience, nothing special.          -0.3089     -0.49 to 0.0   \n",
       "1             the quality is top-notch.           0.0000      0.0 to 0.49   \n",
       "2    five stars for the quick delivery.           0.0000      0.0 to 0.49   \n",
       "3   good quality, but could be cheaper.           0.2382      0.0 to 0.49   \n",
       "4  average experience, nothing special.          -0.3089     -0.49 to 0.0   \n",
       "\n",
       "  sentiment_category  \n",
       "0     Mixed Negative  \n",
       "1           Positive  \n",
       "2           Positive  \n",
       "3     Mixed Positive  \n",
       "4     Mixed Negative  "
      ]
     },
     "execution_count": 25,
     "metadata": {},
     "output_type": "execute_result"
    }
   ],
   "source": [
    "customer_reviews_df.head()"
   ]
  },
  {
   "cell_type": "code",
   "execution_count": 26,
   "id": "f41200a5",
   "metadata": {},
   "outputs": [],
   "source": [
    "customer_reviews_df.to_csv('customer_reviews_with_sentiments.csv',index=False)"
   ]
  },
  {
   "cell_type": "code",
   "execution_count": null,
   "id": "5904c61d",
   "metadata": {},
   "outputs": [],
   "source": []
  }
 ],
 "metadata": {
  "kernelspec": {
   "display_name": "Python 3 (ipykernel)",
   "language": "python",
   "name": "python3"
  },
  "language_info": {
   "codemirror_mode": {
    "name": "ipython",
    "version": 3
   },
   "file_extension": ".py",
   "mimetype": "text/x-python",
   "name": "python",
   "nbconvert_exporter": "python",
   "pygments_lexer": "ipython3",
   "version": "3.11.4"
  }
 },
 "nbformat": 4,
 "nbformat_minor": 5
}
